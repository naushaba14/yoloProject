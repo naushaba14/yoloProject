{
 "cells": [
  {
   "cell_type": "code",
   "execution_count": 2,
   "id": "9e1bd2c2-6192-4398-bf83-04323e0ba0b1",
   "metadata": {},
   "outputs": [],
   "source": [
    "import os\n",
    "from glob import glob\n",
    "import pandas as pd\n",
    "from functools import reduce\n",
    "from xml.etree import ElementTree as et"
   ]
  },
  {
   "cell_type": "code",
   "execution_count": 29,
   "id": "91ac44d7-6987-4083-982e-fc2394f563b9",
   "metadata": {},
   "outputs": [],
   "source": [
    "# load all xml files and store in a list\n",
    "xmlfiles = glob('./data_images/*.xml')\n",
    "# data cleaning reolace \\\\ with /\n",
    "xmlfiles = list(map(lambda x: x.replace('\\\\','/'),xmlfiles))"
   ]
  },
  {
   "cell_type": "code",
   "execution_count": 30,
   "id": "61a3d62d-580a-4e69-9a77-51d41759bde5",
   "metadata": {},
   "outputs": [
    {
     "data": {
      "text/plain": [
       "['./data_images/01.xml',\n",
       " './data_images/02.xml',\n",
       " './data_images/03.xml',\n",
       " './data_images/04.xml']"
      ]
     },
     "execution_count": 30,
     "metadata": {},
     "output_type": "execute_result"
    }
   ],
   "source": [
    "xmlfiles"
   ]
  },
  {
   "cell_type": "code",
   "execution_count": 31,
   "id": "df9e0912-7073-4380-9673-064d00b17108",
   "metadata": {},
   "outputs": [],
   "source": [
    "# step-2: read xml files\n",
    "# from each xml file we need to extract\n",
    "# filename, size(width, height), object(name, xmin, xmax, ymin, ymax)\n",
    "def extract_text(filename):\n",
    "    tree = et.parse(filename)\n",
    "    root = tree.getroot()\n",
    "    \n",
    "    # extract filename\n",
    "    image_name = root.find('filename').text\n",
    "    # width and height of the image\n",
    "    width = root.find('size').find('width').text\n",
    "    height = root.find('size').find('height').text\n",
    "    objs = root.findall('object')\n",
    "    parser = []\n",
    "    for obj in objs:   \n",
    "        name = obj.find('name').text\n",
    "        bndbox = obj.find('bndbox')\n",
    "        xmin = bndbox.find('xmin').text\n",
    "        xmax = bndbox.find('xmax').text\n",
    "        ymin = bndbox.find('ymin').text\n",
    "        ymax = bndbox.find('ymax').text\n",
    "        parser.append([image_name,width,height,name,xmin,xmax,ymin,ymax])\n",
    "    \n",
    "    return parser"
   ]
  },
  {
   "cell_type": "code",
   "execution_count": 33,
   "id": "b3d19e66-1fc7-4a6d-9846-5d703368badc",
   "metadata": {},
   "outputs": [],
   "source": [
    "parser_all = list(map(extract_text,xmlfiles))"
   ]
  },
  {
   "cell_type": "code",
   "execution_count": 35,
   "id": "8caab0b3-cf8b-4206-a90d-58afd88a2545",
   "metadata": {},
   "outputs": [],
   "source": [
    "data = reduce(lambda x,y : x+y,parser_all)"
   ]
  },
  {
   "cell_type": "code",
   "execution_count": 37,
   "id": "edcebebc-908a-43c6-a809-9b59bbb6cad5",
   "metadata": {},
   "outputs": [],
   "source": [
    "df = pd.DataFrame(data,columns = ['filename','width','height','name','xmin','xmax','ymin','ymax'])"
   ]
  },
  {
   "cell_type": "code",
   "execution_count": 38,
   "id": "9243afac-f4a7-468c-a341-7e65df653508",
   "metadata": {},
   "outputs": [
    {
     "data": {
      "text/html": [
       "<div>\n",
       "<style scoped>\n",
       "    .dataframe tbody tr th:only-of-type {\n",
       "        vertical-align: middle;\n",
       "    }\n",
       "\n",
       "    .dataframe tbody tr th {\n",
       "        vertical-align: top;\n",
       "    }\n",
       "\n",
       "    .dataframe thead th {\n",
       "        text-align: right;\n",
       "    }\n",
       "</style>\n",
       "<table border=\"1\" class=\"dataframe\">\n",
       "  <thead>\n",
       "    <tr style=\"text-align: right;\">\n",
       "      <th></th>\n",
       "      <th>filename</th>\n",
       "      <th>width</th>\n",
       "      <th>height</th>\n",
       "      <th>name</th>\n",
       "      <th>xmin</th>\n",
       "      <th>xmax</th>\n",
       "      <th>ymin</th>\n",
       "      <th>ymax</th>\n",
       "    </tr>\n",
       "  </thead>\n",
       "  <tbody>\n",
       "    <tr>\n",
       "      <th>0</th>\n",
       "      <td>01.jpg</td>\n",
       "      <td>1024</td>\n",
       "      <td>657</td>\n",
       "      <td>car</td>\n",
       "      <td>15</td>\n",
       "      <td>306</td>\n",
       "      <td>330</td>\n",
       "      <td>507</td>\n",
       "    </tr>\n",
       "    <tr>\n",
       "      <th>1</th>\n",
       "      <td>01.jpg</td>\n",
       "      <td>1024</td>\n",
       "      <td>657</td>\n",
       "      <td>car</td>\n",
       "      <td>269</td>\n",
       "      <td>578</td>\n",
       "      <td>335</td>\n",
       "      <td>481</td>\n",
       "    </tr>\n",
       "    <tr>\n",
       "      <th>2</th>\n",
       "      <td>01.jpg</td>\n",
       "      <td>1024</td>\n",
       "      <td>657</td>\n",
       "      <td>car</td>\n",
       "      <td>505</td>\n",
       "      <td>803</td>\n",
       "      <td>344</td>\n",
       "      <td>444</td>\n",
       "    </tr>\n",
       "    <tr>\n",
       "      <th>3</th>\n",
       "      <td>01.jpg</td>\n",
       "      <td>1024</td>\n",
       "      <td>657</td>\n",
       "      <td>car</td>\n",
       "      <td>716</td>\n",
       "      <td>1012</td>\n",
       "      <td>342</td>\n",
       "      <td>435</td>\n",
       "    </tr>\n",
       "    <tr>\n",
       "      <th>4</th>\n",
       "      <td>02.jpg</td>\n",
       "      <td>799</td>\n",
       "      <td>533</td>\n",
       "      <td>car</td>\n",
       "      <td>49</td>\n",
       "      <td>758</td>\n",
       "      <td>175</td>\n",
       "      <td>420</td>\n",
       "    </tr>\n",
       "  </tbody>\n",
       "</table>\n",
       "</div>"
      ],
      "text/plain": [
       "  filename width height name xmin  xmax ymin ymax\n",
       "0   01.jpg  1024    657  car   15   306  330  507\n",
       "1   01.jpg  1024    657  car  269   578  335  481\n",
       "2   01.jpg  1024    657  car  505   803  344  444\n",
       "3   01.jpg  1024    657  car  716  1012  342  435\n",
       "4   02.jpg   799    533  car   49   758  175  420"
      ]
     },
     "execution_count": 38,
     "metadata": {},
     "output_type": "execute_result"
    }
   ],
   "source": [
    "df.head()"
   ]
  },
  {
   "cell_type": "code",
   "execution_count": 39,
   "id": "46e75d7c-e8c2-4846-86f1-ae2cb4b84d4e",
   "metadata": {},
   "outputs": [
    {
     "data": {
      "text/plain": [
       "(8, 8)"
      ]
     },
     "execution_count": 39,
     "metadata": {},
     "output_type": "execute_result"
    }
   ],
   "source": [
    "df.shape"
   ]
  },
  {
   "cell_type": "code",
   "execution_count": 40,
   "id": "2d4ded8f-c3e0-4e8b-b3cc-9c7fcc4d666a",
   "metadata": {},
   "outputs": [
    {
     "data": {
      "text/plain": [
       "name\n",
       "car     6\n",
       "bird    1\n",
       "cat     1\n",
       "Name: count, dtype: int64"
      ]
     },
     "execution_count": 40,
     "metadata": {},
     "output_type": "execute_result"
    }
   ],
   "source": [
    "df['name'].value_counts()"
   ]
  },
  {
   "cell_type": "code",
   "execution_count": 42,
   "id": "adac17e4-231f-406c-8bb7-26c44705ef30",
   "metadata": {},
   "outputs": [
    {
     "name": "stdout",
     "output_type": "stream",
     "text": [
      "<class 'pandas.core.frame.DataFrame'>\n",
      "RangeIndex: 8 entries, 0 to 7\n",
      "Data columns (total 8 columns):\n",
      " #   Column    Non-Null Count  Dtype \n",
      "---  ------    --------------  ----- \n",
      " 0   filename  8 non-null      object\n",
      " 1   width     8 non-null      object\n",
      " 2   height    8 non-null      object\n",
      " 3   name      8 non-null      object\n",
      " 4   xmin      8 non-null      object\n",
      " 5   xmax      8 non-null      object\n",
      " 6   ymin      8 non-null      object\n",
      " 7   ymax      8 non-null      object\n",
      "dtypes: object(8)\n",
      "memory usage: 644.0+ bytes\n"
     ]
    }
   ],
   "source": [
    "df.info()"
   ]
  },
  {
   "cell_type": "code",
   "execution_count": 43,
   "id": "90ffb273-2139-4e32-9206-f6669a09dfa5",
   "metadata": {},
   "outputs": [
    {
     "name": "stdout",
     "output_type": "stream",
     "text": [
      "<class 'pandas.core.frame.DataFrame'>\n",
      "RangeIndex: 8 entries, 0 to 7\n",
      "Data columns (total 8 columns):\n",
      " #   Column    Non-Null Count  Dtype \n",
      "---  ------    --------------  ----- \n",
      " 0   filename  8 non-null      object\n",
      " 1   width     8 non-null      int32 \n",
      " 2   height    8 non-null      int32 \n",
      " 3   name      8 non-null      object\n",
      " 4   xmin      8 non-null      int32 \n",
      " 5   xmax      8 non-null      int32 \n",
      " 6   ymin      8 non-null      int32 \n",
      " 7   ymax      8 non-null      int32 \n",
      "dtypes: int32(6), object(2)\n",
      "memory usage: 452.0+ bytes\n"
     ]
    }
   ],
   "source": [
    "# type conversion\n",
    "cols = ['width','height','xmin','xmax','ymin','ymax']\n",
    "df[cols] = df[cols].astype(int)\n",
    "df.info()"
   ]
  },
  {
   "cell_type": "code",
   "execution_count": 44,
   "id": "7542b4e8-6ac5-4492-afbe-1b7e31c5d6c9",
   "metadata": {},
   "outputs": [],
   "source": [
    "# center x, center y\n",
    "df['center_x'] = ((df['xmax']+df['xmin'])/2)/df['width']\n",
    "df['center_y'] = ((df['ymax']+df['ymin'])/2)/df['height']\n",
    "# w\n",
    "df['w'] = (df['xmax']-df['xmin'])/df['width']\n",
    "# h\n",
    "df['h'] = (df['ymax']-df['ymin'])/df['height']"
   ]
  },
  {
   "cell_type": "code",
   "execution_count": 45,
   "id": "fe2c773b-35cb-4658-b3db-e92ef16bd1f3",
   "metadata": {},
   "outputs": [
    {
     "data": {
      "text/html": [
       "<div>\n",
       "<style scoped>\n",
       "    .dataframe tbody tr th:only-of-type {\n",
       "        vertical-align: middle;\n",
       "    }\n",
       "\n",
       "    .dataframe tbody tr th {\n",
       "        vertical-align: top;\n",
       "    }\n",
       "\n",
       "    .dataframe thead th {\n",
       "        text-align: right;\n",
       "    }\n",
       "</style>\n",
       "<table border=\"1\" class=\"dataframe\">\n",
       "  <thead>\n",
       "    <tr style=\"text-align: right;\">\n",
       "      <th></th>\n",
       "      <th>filename</th>\n",
       "      <th>width</th>\n",
       "      <th>height</th>\n",
       "      <th>name</th>\n",
       "      <th>xmin</th>\n",
       "      <th>xmax</th>\n",
       "      <th>ymin</th>\n",
       "      <th>ymax</th>\n",
       "      <th>center_x</th>\n",
       "      <th>center_y</th>\n",
       "      <th>w</th>\n",
       "      <th>h</th>\n",
       "    </tr>\n",
       "  </thead>\n",
       "  <tbody>\n",
       "    <tr>\n",
       "      <th>0</th>\n",
       "      <td>01.jpg</td>\n",
       "      <td>1024</td>\n",
       "      <td>657</td>\n",
       "      <td>car</td>\n",
       "      <td>15</td>\n",
       "      <td>306</td>\n",
       "      <td>330</td>\n",
       "      <td>507</td>\n",
       "      <td>0.156738</td>\n",
       "      <td>0.636986</td>\n",
       "      <td>0.284180</td>\n",
       "      <td>0.269406</td>\n",
       "    </tr>\n",
       "    <tr>\n",
       "      <th>1</th>\n",
       "      <td>01.jpg</td>\n",
       "      <td>1024</td>\n",
       "      <td>657</td>\n",
       "      <td>car</td>\n",
       "      <td>269</td>\n",
       "      <td>578</td>\n",
       "      <td>335</td>\n",
       "      <td>481</td>\n",
       "      <td>0.413574</td>\n",
       "      <td>0.621005</td>\n",
       "      <td>0.301758</td>\n",
       "      <td>0.222222</td>\n",
       "    </tr>\n",
       "    <tr>\n",
       "      <th>2</th>\n",
       "      <td>01.jpg</td>\n",
       "      <td>1024</td>\n",
       "      <td>657</td>\n",
       "      <td>car</td>\n",
       "      <td>505</td>\n",
       "      <td>803</td>\n",
       "      <td>344</td>\n",
       "      <td>444</td>\n",
       "      <td>0.638672</td>\n",
       "      <td>0.599696</td>\n",
       "      <td>0.291016</td>\n",
       "      <td>0.152207</td>\n",
       "    </tr>\n",
       "    <tr>\n",
       "      <th>3</th>\n",
       "      <td>01.jpg</td>\n",
       "      <td>1024</td>\n",
       "      <td>657</td>\n",
       "      <td>car</td>\n",
       "      <td>716</td>\n",
       "      <td>1012</td>\n",
       "      <td>342</td>\n",
       "      <td>435</td>\n",
       "      <td>0.843750</td>\n",
       "      <td>0.591324</td>\n",
       "      <td>0.289062</td>\n",
       "      <td>0.141553</td>\n",
       "    </tr>\n",
       "    <tr>\n",
       "      <th>4</th>\n",
       "      <td>02.jpg</td>\n",
       "      <td>799</td>\n",
       "      <td>533</td>\n",
       "      <td>car</td>\n",
       "      <td>49</td>\n",
       "      <td>758</td>\n",
       "      <td>175</td>\n",
       "      <td>420</td>\n",
       "      <td>0.505006</td>\n",
       "      <td>0.558161</td>\n",
       "      <td>0.887359</td>\n",
       "      <td>0.459662</td>\n",
       "    </tr>\n",
       "  </tbody>\n",
       "</table>\n",
       "</div>"
      ],
      "text/plain": [
       "  filename  width  height name  xmin  xmax  ymin  ymax  center_x  center_y  \\\n",
       "0   01.jpg   1024     657  car    15   306   330   507  0.156738  0.636986   \n",
       "1   01.jpg   1024     657  car   269   578   335   481  0.413574  0.621005   \n",
       "2   01.jpg   1024     657  car   505   803   344   444  0.638672  0.599696   \n",
       "3   01.jpg   1024     657  car   716  1012   342   435  0.843750  0.591324   \n",
       "4   02.jpg    799     533  car    49   758   175   420  0.505006  0.558161   \n",
       "\n",
       "          w         h  \n",
       "0  0.284180  0.269406  \n",
       "1  0.301758  0.222222  \n",
       "2  0.291016  0.152207  \n",
       "3  0.289062  0.141553  \n",
       "4  0.887359  0.459662  "
      ]
     },
     "execution_count": 45,
     "metadata": {},
     "output_type": "execute_result"
    }
   ],
   "source": [
    "df.head()"
   ]
  },
  {
   "cell_type": "code",
   "execution_count": 48,
   "id": "f59ca33e-fc67-41d2-aedc-219afb31e3a6",
   "metadata": {},
   "outputs": [],
   "source": [
    "images = df['filename'].unique()"
   ]
  },
  {
   "cell_type": "code",
   "execution_count": 50,
   "id": "dd40b050-77cb-4894-954e-75bacce8f599",
   "metadata": {},
   "outputs": [
    {
     "data": {
      "text/plain": [
       "4"
      ]
     },
     "execution_count": 50,
     "metadata": {},
     "output_type": "execute_result"
    }
   ],
   "source": [
    "len(images)"
   ]
  },
  {
   "cell_type": "code",
   "execution_count": 52,
   "id": "53908cb9-6ed5-468c-8ccd-89472e14710c",
   "metadata": {},
   "outputs": [],
   "source": [
    "# 80% train and 20% test\n",
    "img_df = pd.DataFrame(images,columns=['filename'])\n",
    "img_train = tuple(img_df.sample(frac=0.8)['filename']) # shuffle and pick 80% of images"
   ]
  },
  {
   "cell_type": "code",
   "execution_count": 54,
   "id": "983e7892-1c04-44b2-a33d-4849cca41463",
   "metadata": {},
   "outputs": [],
   "source": [
    "img_test = tuple(img_df.query(f'filename not in {img_train}')['filename']) # take rest 20% images"
   ]
  },
  {
   "cell_type": "code",
   "execution_count": 56,
   "id": "2e2a55e4-7d9e-4586-b454-aaf5774615e7",
   "metadata": {},
   "outputs": [
    {
     "data": {
      "text/plain": [
       "(3, 1)"
      ]
     },
     "execution_count": 56,
     "metadata": {},
     "output_type": "execute_result"
    }
   ],
   "source": [
    "len(img_train),len(img_test)"
   ]
  },
  {
   "cell_type": "code",
   "execution_count": 57,
   "id": "fcf01a07-0928-4f2a-8775-0599d331029e",
   "metadata": {},
   "outputs": [],
   "source": [
    "train_df = df.query(f'filename in {img_train}')\n",
    "test_df = df.query(f'filename in {img_test}')"
   ]
  },
  {
   "cell_type": "code",
   "execution_count": 58,
   "id": "12989cee-8900-4f6f-b0fa-26f8ffe2d6d3",
   "metadata": {},
   "outputs": [
    {
     "data": {
      "text/html": [
       "<div>\n",
       "<style scoped>\n",
       "    .dataframe tbody tr th:only-of-type {\n",
       "        vertical-align: middle;\n",
       "    }\n",
       "\n",
       "    .dataframe tbody tr th {\n",
       "        vertical-align: top;\n",
       "    }\n",
       "\n",
       "    .dataframe thead th {\n",
       "        text-align: right;\n",
       "    }\n",
       "</style>\n",
       "<table border=\"1\" class=\"dataframe\">\n",
       "  <thead>\n",
       "    <tr style=\"text-align: right;\">\n",
       "      <th></th>\n",
       "      <th>filename</th>\n",
       "      <th>width</th>\n",
       "      <th>height</th>\n",
       "      <th>name</th>\n",
       "      <th>xmin</th>\n",
       "      <th>xmax</th>\n",
       "      <th>ymin</th>\n",
       "      <th>ymax</th>\n",
       "      <th>center_x</th>\n",
       "      <th>center_y</th>\n",
       "      <th>w</th>\n",
       "      <th>h</th>\n",
       "    </tr>\n",
       "  </thead>\n",
       "  <tbody>\n",
       "    <tr>\n",
       "      <th>4</th>\n",
       "      <td>02.jpg</td>\n",
       "      <td>799</td>\n",
       "      <td>533</td>\n",
       "      <td>car</td>\n",
       "      <td>49</td>\n",
       "      <td>758</td>\n",
       "      <td>175</td>\n",
       "      <td>420</td>\n",
       "      <td>0.505006</td>\n",
       "      <td>0.558161</td>\n",
       "      <td>0.887359</td>\n",
       "      <td>0.459662</td>\n",
       "    </tr>\n",
       "    <tr>\n",
       "      <th>5</th>\n",
       "      <td>02.jpg</td>\n",
       "      <td>799</td>\n",
       "      <td>533</td>\n",
       "      <td>car</td>\n",
       "      <td>2</td>\n",
       "      <td>65</td>\n",
       "      <td>222</td>\n",
       "      <td>283</td>\n",
       "      <td>0.041927</td>\n",
       "      <td>0.473734</td>\n",
       "      <td>0.078849</td>\n",
       "      <td>0.114447</td>\n",
       "    </tr>\n",
       "    <tr>\n",
       "      <th>6</th>\n",
       "      <td>03.jpg</td>\n",
       "      <td>799</td>\n",
       "      <td>543</td>\n",
       "      <td>bird</td>\n",
       "      <td>218</td>\n",
       "      <td>473</td>\n",
       "      <td>120</td>\n",
       "      <td>443</td>\n",
       "      <td>0.432416</td>\n",
       "      <td>0.518416</td>\n",
       "      <td>0.319149</td>\n",
       "      <td>0.594843</td>\n",
       "    </tr>\n",
       "    <tr>\n",
       "      <th>7</th>\n",
       "      <td>04.jpg</td>\n",
       "      <td>640</td>\n",
       "      <td>800</td>\n",
       "      <td>cat</td>\n",
       "      <td>115</td>\n",
       "      <td>573</td>\n",
       "      <td>31</td>\n",
       "      <td>740</td>\n",
       "      <td>0.537500</td>\n",
       "      <td>0.481875</td>\n",
       "      <td>0.715625</td>\n",
       "      <td>0.886250</td>\n",
       "    </tr>\n",
       "  </tbody>\n",
       "</table>\n",
       "</div>"
      ],
      "text/plain": [
       "  filename  width  height  name  xmin  xmax  ymin  ymax  center_x  center_y  \\\n",
       "4   02.jpg    799     533   car    49   758   175   420  0.505006  0.558161   \n",
       "5   02.jpg    799     533   car     2    65   222   283  0.041927  0.473734   \n",
       "6   03.jpg    799     543  bird   218   473   120   443  0.432416  0.518416   \n",
       "7   04.jpg    640     800   cat   115   573    31   740  0.537500  0.481875   \n",
       "\n",
       "          w         h  \n",
       "4  0.887359  0.459662  \n",
       "5  0.078849  0.114447  \n",
       "6  0.319149  0.594843  \n",
       "7  0.715625  0.886250  "
      ]
     },
     "execution_count": 58,
     "metadata": {},
     "output_type": "execute_result"
    }
   ],
   "source": [
    "train_df.head()"
   ]
  },
  {
   "cell_type": "code",
   "execution_count": 59,
   "id": "1c17146d-6163-4af0-adda-95bfbb1b48c4",
   "metadata": {},
   "outputs": [
    {
     "data": {
      "text/html": [
       "<div>\n",
       "<style scoped>\n",
       "    .dataframe tbody tr th:only-of-type {\n",
       "        vertical-align: middle;\n",
       "    }\n",
       "\n",
       "    .dataframe tbody tr th {\n",
       "        vertical-align: top;\n",
       "    }\n",
       "\n",
       "    .dataframe thead th {\n",
       "        text-align: right;\n",
       "    }\n",
       "</style>\n",
       "<table border=\"1\" class=\"dataframe\">\n",
       "  <thead>\n",
       "    <tr style=\"text-align: right;\">\n",
       "      <th></th>\n",
       "      <th>filename</th>\n",
       "      <th>width</th>\n",
       "      <th>height</th>\n",
       "      <th>name</th>\n",
       "      <th>xmin</th>\n",
       "      <th>xmax</th>\n",
       "      <th>ymin</th>\n",
       "      <th>ymax</th>\n",
       "      <th>center_x</th>\n",
       "      <th>center_y</th>\n",
       "      <th>w</th>\n",
       "      <th>h</th>\n",
       "    </tr>\n",
       "  </thead>\n",
       "  <tbody>\n",
       "    <tr>\n",
       "      <th>0</th>\n",
       "      <td>01.jpg</td>\n",
       "      <td>1024</td>\n",
       "      <td>657</td>\n",
       "      <td>car</td>\n",
       "      <td>15</td>\n",
       "      <td>306</td>\n",
       "      <td>330</td>\n",
       "      <td>507</td>\n",
       "      <td>0.156738</td>\n",
       "      <td>0.636986</td>\n",
       "      <td>0.284180</td>\n",
       "      <td>0.269406</td>\n",
       "    </tr>\n",
       "    <tr>\n",
       "      <th>1</th>\n",
       "      <td>01.jpg</td>\n",
       "      <td>1024</td>\n",
       "      <td>657</td>\n",
       "      <td>car</td>\n",
       "      <td>269</td>\n",
       "      <td>578</td>\n",
       "      <td>335</td>\n",
       "      <td>481</td>\n",
       "      <td>0.413574</td>\n",
       "      <td>0.621005</td>\n",
       "      <td>0.301758</td>\n",
       "      <td>0.222222</td>\n",
       "    </tr>\n",
       "    <tr>\n",
       "      <th>2</th>\n",
       "      <td>01.jpg</td>\n",
       "      <td>1024</td>\n",
       "      <td>657</td>\n",
       "      <td>car</td>\n",
       "      <td>505</td>\n",
       "      <td>803</td>\n",
       "      <td>344</td>\n",
       "      <td>444</td>\n",
       "      <td>0.638672</td>\n",
       "      <td>0.599696</td>\n",
       "      <td>0.291016</td>\n",
       "      <td>0.152207</td>\n",
       "    </tr>\n",
       "    <tr>\n",
       "      <th>3</th>\n",
       "      <td>01.jpg</td>\n",
       "      <td>1024</td>\n",
       "      <td>657</td>\n",
       "      <td>car</td>\n",
       "      <td>716</td>\n",
       "      <td>1012</td>\n",
       "      <td>342</td>\n",
       "      <td>435</td>\n",
       "      <td>0.843750</td>\n",
       "      <td>0.591324</td>\n",
       "      <td>0.289062</td>\n",
       "      <td>0.141553</td>\n",
       "    </tr>\n",
       "  </tbody>\n",
       "</table>\n",
       "</div>"
      ],
      "text/plain": [
       "  filename  width  height name  xmin  xmax  ymin  ymax  center_x  center_y  \\\n",
       "0   01.jpg   1024     657  car    15   306   330   507  0.156738  0.636986   \n",
       "1   01.jpg   1024     657  car   269   578   335   481  0.413574  0.621005   \n",
       "2   01.jpg   1024     657  car   505   803   344   444  0.638672  0.599696   \n",
       "3   01.jpg   1024     657  car   716  1012   342   435  0.843750  0.591324   \n",
       "\n",
       "          w         h  \n",
       "0  0.284180  0.269406  \n",
       "1  0.301758  0.222222  \n",
       "2  0.291016  0.152207  \n",
       "3  0.289062  0.141553  "
      ]
     },
     "execution_count": 59,
     "metadata": {},
     "output_type": "execute_result"
    }
   ],
   "source": [
    "test_df.head()"
   ]
  },
  {
   "cell_type": "code",
   "execution_count": 60,
   "id": "86b169cf-68bb-42d0-a9b8-73b0a432b2ed",
   "metadata": {},
   "outputs": [],
   "source": [
    "# label encoding\n",
    "def label_encoding(x):\n",
    "    labels = {'person':0, 'car':1, 'chair':2, 'bottle':3, 'pottedplant':4, 'bird':5, 'dog':6,\n",
    "              'sofa':7, 'bicycle':8, 'horse':9, 'boat':10, 'motorbike':11, 'cat':12, 'tvmonitor':13,\n",
    "              'cow':14, 'sheep':15, 'aeroplane':16, 'train':17, 'diningtable':18, 'bus':19}\n",
    "    return labels[x]"
   ]
  },
  {
   "cell_type": "code",
   "execution_count": 62,
   "id": "a5b001f0-89b6-4a18-8b6f-463857035868",
   "metadata": {},
   "outputs": [],
   "source": [
    "train_df.loc[:,'id'] = train_df['name'].apply(label_encoding)\n",
    "test_df.loc[:,'id'] = test_df['name'].apply(label_encoding)"
   ]
  },
  {
   "cell_type": "code",
   "execution_count": 63,
   "id": "2235aa07-e5f2-4c84-8a79-c5b188de6792",
   "metadata": {},
   "outputs": [
    {
     "data": {
      "text/html": [
       "<div>\n",
       "<style scoped>\n",
       "    .dataframe tbody tr th:only-of-type {\n",
       "        vertical-align: middle;\n",
       "    }\n",
       "\n",
       "    .dataframe tbody tr th {\n",
       "        vertical-align: top;\n",
       "    }\n",
       "\n",
       "    .dataframe thead th {\n",
       "        text-align: right;\n",
       "    }\n",
       "</style>\n",
       "<table border=\"1\" class=\"dataframe\">\n",
       "  <thead>\n",
       "    <tr style=\"text-align: right;\">\n",
       "      <th></th>\n",
       "      <th>filename</th>\n",
       "      <th>width</th>\n",
       "      <th>height</th>\n",
       "      <th>name</th>\n",
       "      <th>xmin</th>\n",
       "      <th>xmax</th>\n",
       "      <th>ymin</th>\n",
       "      <th>ymax</th>\n",
       "      <th>center_x</th>\n",
       "      <th>center_y</th>\n",
       "      <th>w</th>\n",
       "      <th>h</th>\n",
       "      <th>id</th>\n",
       "    </tr>\n",
       "  </thead>\n",
       "  <tbody>\n",
       "    <tr>\n",
       "      <th>4</th>\n",
       "      <td>02.jpg</td>\n",
       "      <td>799</td>\n",
       "      <td>533</td>\n",
       "      <td>car</td>\n",
       "      <td>49</td>\n",
       "      <td>758</td>\n",
       "      <td>175</td>\n",
       "      <td>420</td>\n",
       "      <td>0.505006</td>\n",
       "      <td>0.558161</td>\n",
       "      <td>0.887359</td>\n",
       "      <td>0.459662</td>\n",
       "      <td>1</td>\n",
       "    </tr>\n",
       "    <tr>\n",
       "      <th>5</th>\n",
       "      <td>02.jpg</td>\n",
       "      <td>799</td>\n",
       "      <td>533</td>\n",
       "      <td>car</td>\n",
       "      <td>2</td>\n",
       "      <td>65</td>\n",
       "      <td>222</td>\n",
       "      <td>283</td>\n",
       "      <td>0.041927</td>\n",
       "      <td>0.473734</td>\n",
       "      <td>0.078849</td>\n",
       "      <td>0.114447</td>\n",
       "      <td>1</td>\n",
       "    </tr>\n",
       "    <tr>\n",
       "      <th>6</th>\n",
       "      <td>03.jpg</td>\n",
       "      <td>799</td>\n",
       "      <td>543</td>\n",
       "      <td>bird</td>\n",
       "      <td>218</td>\n",
       "      <td>473</td>\n",
       "      <td>120</td>\n",
       "      <td>443</td>\n",
       "      <td>0.432416</td>\n",
       "      <td>0.518416</td>\n",
       "      <td>0.319149</td>\n",
       "      <td>0.594843</td>\n",
       "      <td>5</td>\n",
       "    </tr>\n",
       "    <tr>\n",
       "      <th>7</th>\n",
       "      <td>04.jpg</td>\n",
       "      <td>640</td>\n",
       "      <td>800</td>\n",
       "      <td>cat</td>\n",
       "      <td>115</td>\n",
       "      <td>573</td>\n",
       "      <td>31</td>\n",
       "      <td>740</td>\n",
       "      <td>0.537500</td>\n",
       "      <td>0.481875</td>\n",
       "      <td>0.715625</td>\n",
       "      <td>0.886250</td>\n",
       "      <td>12</td>\n",
       "    </tr>\n",
       "  </tbody>\n",
       "</table>\n",
       "</div>"
      ],
      "text/plain": [
       "  filename  width  height  name  xmin  xmax  ymin  ymax  center_x  center_y  \\\n",
       "4   02.jpg    799     533   car    49   758   175   420  0.505006  0.558161   \n",
       "5   02.jpg    799     533   car     2    65   222   283  0.041927  0.473734   \n",
       "6   03.jpg    799     543  bird   218   473   120   443  0.432416  0.518416   \n",
       "7   04.jpg    640     800   cat   115   573    31   740  0.537500  0.481875   \n",
       "\n",
       "          w         h  id  \n",
       "4  0.887359  0.459662   1  \n",
       "5  0.078849  0.114447   1  \n",
       "6  0.319149  0.594843   5  \n",
       "7  0.715625  0.886250  12  "
      ]
     },
     "execution_count": 63,
     "metadata": {},
     "output_type": "execute_result"
    }
   ],
   "source": [
    "train_df.head(10)"
   ]
  },
  {
   "cell_type": "code",
   "execution_count": 64,
   "id": "fb465ccf-0053-4694-a93f-dbaca8f753f4",
   "metadata": {},
   "outputs": [],
   "source": [
    "import os\n",
    "from shutil import move"
   ]
  },
  {
   "cell_type": "code",
   "execution_count": 65,
   "id": "fd99104c-906c-47f4-a710-ad90926585df",
   "metadata": {},
   "outputs": [],
   "source": [
    "train_folder = 'data_images/train'\n",
    "test_folder = 'data_images/test'\n",
    "\n",
    "\n",
    "os.mkdir(train_folder)\n",
    "os.mkdir(test_folder)"
   ]
  },
  {
   "cell_type": "code",
   "execution_count": 78,
   "id": "595760b4-fc17-4c38-acac-636b0255dd0d",
   "metadata": {},
   "outputs": [],
   "source": [
    "cols = ['filename','id','center_x','center_y','w','h']\n",
    "groupby_obj_train = train_df[cols].groupby('filename')\n",
    "groupby_obj_test = test_df[cols].groupby('filename')"
   ]
  },
  {
   "cell_type": "code",
   "execution_count": 92,
   "id": "46f18a40-3b39-40e6-801b-1fa0f8d44129",
   "metadata": {},
   "outputs": [],
   "source": [
    "#groupby_obj_train.get_group('02.jpg').set_index('filename').to_csv('sample.txt', index=False,header=False)\n",
    "# save each image in train/test folder and respective labels in .txt\n",
    "def save_data(filename, folder_path, group_obj):\n",
    "    #move image\n",
    "    src = os.path.join('data_images',filename)\n",
    "    dst = os.path.join(folder_path,filename)\n",
    "    move(src,dst) # move images to the destination folder\n",
    "    #save the labels \n",
    "    text_filename = os.path.join(folder_path,\n",
    "                                 os.path.splitext(filename)[0]+'.txt')\n",
    "    group_obj.get_group(filename).set_index('filename').to_csv(text_filename,sep=' ',index=False,header=False)\n",
    "\n",
    "\n"
   ]
  },
  {
   "cell_type": "code",
   "execution_count": 99,
   "id": "f5561d66-98e6-42f5-8e46-35884fb60325",
   "metadata": {},
   "outputs": [],
   "source": [
    "filename_series = pd.Series(groupby_obj_train.groups.keys())"
   ]
  },
  {
   "cell_type": "code",
   "execution_count": 101,
   "id": "1dbdfef7-11a8-49df-bf33-4d8418584fbc",
   "metadata": {},
   "outputs": [
    {
     "data": {
      "text/plain": [
       "0    None\n",
       "1    None\n",
       "2    None\n",
       "dtype: object"
      ]
     },
     "execution_count": 101,
     "metadata": {},
     "output_type": "execute_result"
    }
   ],
   "source": [
    "filename_series.apply(save_data,args=(train_folder,groupby_obj_train))"
   ]
  },
  {
   "cell_type": "code",
   "execution_count": 102,
   "id": "2dab633d-c285-4428-9872-8769e133ac68",
   "metadata": {},
   "outputs": [
    {
     "data": {
      "text/plain": [
       "0    None\n",
       "dtype: object"
      ]
     },
     "execution_count": 102,
     "metadata": {},
     "output_type": "execute_result"
    }
   ],
   "source": [
    "filename_series_test = pd.Series(groupby_obj_test.groups.keys())\n",
    "filename_series_test.apply(save_data,args=(test_folder,groupby_obj_test))"
   ]
  },
  {
   "cell_type": "code",
   "execution_count": null,
   "id": "f9833aed-9db0-474a-8efb-c2c51d08389b",
   "metadata": {},
   "outputs": [],
   "source": []
  }
 ],
 "metadata": {
  "kernelspec": {
   "display_name": "Python 3 (ipykernel)",
   "language": "python",
   "name": "python3"
  },
  "language_info": {
   "codemirror_mode": {
    "name": "ipython",
    "version": 3
   },
   "file_extension": ".py",
   "mimetype": "text/x-python",
   "name": "python",
   "nbconvert_exporter": "python",
   "pygments_lexer": "ipython3",
   "version": "3.12.2"
  }
 },
 "nbformat": 4,
 "nbformat_minor": 5
}
